


# Dependencies and Setup
import hvplot.pandas
import pandas as pd
import requests
import matplotlib.pyplot as plt

from datetime import datetime

# Import API key
from api_keys import geoapify_key


# Load the CSV file created in Part 1 into a Pandas DataFrame
city_data_df = pd.read_csv("output_data/cities.csv")

# Display sample data
city_data_df.head()





%%capture --no-display

# Configure the map plot
city_humidity_map = city_data_df.hvplot.points(
    "Lng",
    "Lat",
    geo = True,
    tiles = "OSM",
    frame_width = 800,
    frame_height = 500,
    size = "Humidity",
    scale = .75,
    color = "City"
)

# Display the map
city_humidity_map





# Narrow down cities that fit criteria and drop any results with null values
# YOUR CODE HERE
preferred_cities_df = city_data_df.loc[(city_data_df["Max Temp"] <= 50 ) & \
                                       (city_data_df["Max Temp"] >= 20) &  
                                       (city_data_df["Cloudiness"] == 0) &
                                       (city_data_df["Wind Speed"] <= 4.5)]          
                                        
preferred_cities_df.head(20)
# Drop any rows with null values
# YOUR CODE HERE

# Display sample data
# YOUR CODE HERE





# Use the Pandas copy function to create DataFrame called hotel_df to store the city, country, coordinates, and humidity
# YOUR CODE HERE

hotel_df = preferred_cities_df[["City", "Country", "Humidity", "Lat", "Lng"]].copy()
hotel_df["Hotel Name"] = ""
hotel_df.head(20)

# Add an empty column, "Hotel Name," to the DataFrame so you can store the hotel found using the Geoapify API
# YOUR CODE HERE

# Display sample data
# YOUR CODE HERE





# Set parameters to search for a hotel
radius =  20000
limit =1
params = {"categories": "accommodation.hotel",
          "limit" : "1",
          "apikey": "geoapify_key"}
    

# Print a message to follow up the hotel search
print("Starting hotel search")

# Iterate through the hotel_df DataFrame
for index, row in hotel_df.iterrows():
    # get latitude, longitude from the DataFrame
    Lat = hotel_df.loc[index,'Lat']
    Lng = hotel_df.loc[index,'Lng']
    
    
    # Add filter and bias parameters with the current city's latitude and longitude to the params dictionary
    params["filter"] = f"circle:{Lng},{Lat},{radius}"
   # params["bias"] = f"proximity:{Lng},{Lat}"


    # Add the latitude and longitude to location key for the params dictionary.
   # params["location"] = f"{Lat},{Lng}"
    
    # Set base URL
    base_url = "https://api.geoapify.com/v2/places"


    # Make and API request using the params dictionaty
    name_address = requests.get(base_url, params=params)
    
   
    
    # Convert the API response to JSON format
    name_address = name_address.json()
    
    
    # Grab the first hotel from the results and store the name in the hotel_df DataFrame
    try:
        hotel_df.loc[index, "Hotel Name"] = name_address["features"][0]["properties"]["name"]
    except (KeyError, IndexError):
        # If no hotel is found, set the hotel name as "No hotel found".
        hotel_df.loc[index, "Hotel Name"] = "No hotel found"
        
    # Log the search results
    print(f"{hotel_df.loc[index, 'City']} - nearest hotel: {hotel_df.loc[index, 'Hotel Name']}")
    
# Display sample data
hotel_df





%%capture --no-display

# Configure the map plot


# YOUR CODE HERE

# Display the map
# YOUR CODE HERE



